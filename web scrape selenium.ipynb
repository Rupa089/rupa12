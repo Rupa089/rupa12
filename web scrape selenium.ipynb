{
 "cells": [
  {
   "cell_type": "code",
   "execution_count": 1,
   "id": "bd3202e7",
   "metadata": {},
   "outputs": [],
   "source": [
    "import selenium\n",
    "import pandas as pd \n",
    "from selenium import webdriver\n",
    "import warnings\n",
    "warnings.filterwarnings('ignore')\n",
    "from selenium.webdriver.common.by import By"
   ]
  },
  {
   "cell_type": "code",
   "execution_count": 38,
   "id": "5ebb654e",
   "metadata": {},
   "outputs": [],
   "source": [
    "driver = webdriver.Chrome()"
   ]
  },
  {
   "cell_type": "code",
   "execution_count": 39,
   "id": "995f3450",
   "metadata": {},
   "outputs": [],
   "source": [
    "driver.get('https://www.shine.com/')"
   ]
  },
  {
   "cell_type": "code",
   "execution_count": 40,
   "id": "cfe83f9a",
   "metadata": {},
   "outputs": [],
   "source": [
    "job_title = driver.find_element(By.CLASS_NAME, \"form-control\")\n",
    "job_title.send_keys(\"Data_Analyst\")"
   ]
  },
  {
   "cell_type": "code",
   "execution_count": 41,
   "id": "e56037a8",
   "metadata": {},
   "outputs": [],
   "source": [
    "location = driver.find_element(By.XPATH, \"/html/body/div/div[4]/div/div[2]/div[2]/div/form/div/div[1]/ul/li[2]/div/input\")\n",
    "location.send_keys(\"Bangalore\")"
   ]
  },
  {
   "cell_type": "code",
   "execution_count": 42,
   "id": "a5f2a6f4",
   "metadata": {},
   "outputs": [],
   "source": [
    "search_button = driver.find_element(By.CLASS_NAME, \"styledcls_body_hidden\")\n",
    "search_button.click()"
   ]
  },
  {
   "cell_type": "code",
   "execution_count": 57,
   "id": "7d2092b2",
   "metadata": {},
   "outputs": [],
   "source": [
    "jobs_data = []\n",
    "job_title=[]\n",
    "job_location=[]\n",
    "company_name=[]\n",
    "experiance_required=[]"
   ]
  },
  {
   "cell_type": "code",
   "execution_count": 44,
   "id": "aa6dada9",
   "metadata": {},
   "outputs": [],
   "source": [
    "title_tags=driver.find_elements(By.XPATH,'//div[@class=\"jobCard_jobCard__jjUmu active white-box-border jobCard\"]')\n",
    "for i in title_tags:\n",
    "    job_title=i.text"
   ]
  },
  {
   "cell_type": "code",
   "execution_count": 45,
   "id": "3e04517f",
   "metadata": {},
   "outputs": [],
   "source": [
    "title_tags=driver.find_elements(By.XPATH,'//div[@class=\" jobCard_jobCard_lists_item__YxRkV jobCard_locationIcon__zrWt2\"]')\n",
    "for i in title_tags:\n",
    "    location=i.text"
   ]
  },
  {
   "cell_type": "code",
   "execution_count": 46,
   "id": "cf424499",
   "metadata": {},
   "outputs": [],
   "source": [
    "title_tags=driver.find_elements(By.XPATH,'//div[@class=\"jobCard_jobCard_cName__mYnow\"]')\n",
    "company_name=i.text"
   ]
  },
  {
   "cell_type": "code",
   "execution_count": 47,
   "id": "8dba6810",
   "metadata": {},
   "outputs": [],
   "source": [
    "title_tags=driver.find_elements(By.XPATH,'//div[@class=\" jobCard_jobCard_lists_item__YxRkV jobCard_jobIcon__3FB1t\"]')\n",
    "for i in title_tags:\n",
    "    experiance=i.text"
   ]
  },
  {
   "cell_type": "code",
   "execution_count": 59,
   "id": "895db5e4",
   "metadata": {},
   "outputs": [],
   "source": [
    "  jobs_data.append({\n",
    "        'Job Title': job_title,\n",
    "        'Job Location': job_location,\n",
    "        'Company Name': company_name,\n",
    "        'Experience Required': experiance_required\n",
    "    })"
   ]
  },
  {
   "cell_type": "code",
   "execution_count": 60,
   "id": "ff9c7919",
   "metadata": {},
   "outputs": [
    {
     "name": "stdout",
     "output_type": "stream",
     "text": [
      "  Job Title Job Location Company Name Experience Required\n",
      "0        []           []           []                  []\n"
     ]
    }
   ],
   "source": [
    "df = pd.DataFrame(jobs_data)\n",
    "print(df)\n"
   ]
  },
  {
   "cell_type": "code",
   "execution_count": null,
   "id": "b96edaaa",
   "metadata": {},
   "outputs": [],
   "source": [
    "#Q2: Write a python program to scrape data for ““Data Scientist” Job position in “Bangalore” location. \n",
    "#You have to scrape the job-title, job-location, company_name, experience_required. You have to scrape first 10 jobs data.\n",
    "#1. First get the webpage https://www.naukri.com/\n",
    "#2. Enter “Data Analyst” in “Job title, Skills” field and enter “Bangalore” in “enter the location” field.\n",
    "#3. Then click the searchbutton. \n",
    "#4. Then scrape the data for the first 10 jobs results you get"
   ]
  },
  {
   "cell_type": "code",
   "execution_count": 61,
   "id": "e550046c",
   "metadata": {},
   "outputs": [],
   "source": [
    "driver = webdriver.Chrome()"
   ]
  },
  {
   "cell_type": "code",
   "execution_count": 62,
   "id": "cb7fec17",
   "metadata": {},
   "outputs": [],
   "source": [
    "driver.get('https://www.naukri.com/')"
   ]
  },
  {
   "cell_type": "code",
   "execution_count": 63,
   "id": "9c93d45a",
   "metadata": {},
   "outputs": [],
   "source": [
    "job_title = driver.find_element(By.CLASS_NAME, \"suggestor-input \" )\n",
    "job_title.send_keys(\"Data_Analyst\")"
   ]
  },
  {
   "cell_type": "code",
   "execution_count": 64,
   "id": "1d3ceccf",
   "metadata": {},
   "outputs": [],
   "source": [
    "location = driver.find_element(By.XPATH, \"/html/body/div[1]/div[6]/div/div/div[5]/div/div/div/div[1]/div/input\")\n",
    "location.send_keys(\"Bangalore\")"
   ]
  },
  {
   "cell_type": "code",
   "execution_count": 65,
   "id": "4b8af012",
   "metadata": {},
   "outputs": [],
   "source": [
    "search_button = driver.find_element(By.CLASS_NAME, \"qsbSubmit\")\n",
    "search_button.click()"
   ]
  },
  {
   "cell_type": "code",
   "execution_count": 72,
   "id": "6da7afc8",
   "metadata": {},
   "outputs": [],
   "source": [
    "jobs_data = []\n",
    "job_title=[]\n",
    "job_location=[]\n",
    "company_name=[]\n",
    "experiance_required=[]"
   ]
  },
  {
   "cell_type": "code",
   "execution_count": 205,
   "id": "17534df4",
   "metadata": {},
   "outputs": [],
   "source": [
    "title_tags=driver.find_elements(By.XPATH,'//div[@class=\" row1\"]//a')\n",
    "for i in title_tags:\n",
    "    job_title=i.text"
   ]
  },
  {
   "cell_type": "code",
   "execution_count": 68,
   "id": "c1c2cf14",
   "metadata": {},
   "outputs": [],
   "source": [
    "title_tags=driver.find_elements(By.XPATH,'//div[@class=\"ni-job-tuple-icon ni-job-tuple-icon-srp-location loc\"]')\n",
    "for i in title_tags:\n",
    "    location=i.text"
   ]
  },
  {
   "cell_type": "code",
   "execution_count": 69,
   "id": "7cc9051e",
   "metadata": {},
   "outputs": [],
   "source": [
    "title_tags=driver.find_elements(By.XPATH,'//div[@class=\" comp-name mw-25\"]')\n",
    "company_name=i.text"
   ]
  },
  {
   "cell_type": "code",
   "execution_count": 70,
   "id": "1c6f1213",
   "metadata": {},
   "outputs": [],
   "source": [
    "title_tags=driver.find_elements(By.XPATH,'//div[@class=\"expwdth\"]')\n",
    "for i in title_tags:\n",
    "    experiance=i.text"
   ]
  },
  {
   "cell_type": "code",
   "execution_count": 73,
   "id": "197072fd",
   "metadata": {},
   "outputs": [],
   "source": [
    "  jobs_data.append({\n",
    "        'Job Title': job_title,\n",
    "        'Job Location': job_location,\n",
    "        'Company Name': company_name,\n",
    "        'Experience Required': experiance_required\n",
    "    })"
   ]
  },
  {
   "cell_type": "code",
   "execution_count": 74,
   "id": "f6a7dbd7",
   "metadata": {},
   "outputs": [
    {
     "name": "stdout",
     "output_type": "stream",
     "text": [
      "  Job Title Job Location Company Name Experience Required\n",
      "0        []           []           []                  []\n"
     ]
    }
   ],
   "source": [
    "df = pd.DataFrame(jobs_data)\n",
    "print(df)\n",
    "\n",
    "driver.quit()"
   ]
  },
  {
   "cell_type": "code",
   "execution_count": null,
   "id": "8dfcc501",
   "metadata": {},
   "outputs": [],
   "source": [
    "#Q3: Scrape data of first 100 sunglasses listings on flipkart.com. You have to scrape four attributes:\n",
    "#1. Brand 2. ProductDescription 3. Price \n",
    "#The attributes which you have to scrape is ticked marked in the below image"
   ]
  },
  {
   "cell_type": "code",
   "execution_count": 131,
   "id": "60b5899f",
   "metadata": {},
   "outputs": [],
   "source": [
    "driver = webdriver.Chrome()"
   ]
  },
  {
   "cell_type": "code",
   "execution_count": 174,
   "id": "7d7c4aab",
   "metadata": {},
   "outputs": [],
   "source": [
    "driver.get('https://www.flipkart.com/')"
   ]
  },
  {
   "cell_type": "code",
   "execution_count": 186,
   "id": "d7a5c04e",
   "metadata": {},
   "outputs": [],
   "source": [
    "search_box = driver.find_element(By.CLASS_NAME, \"Pke_EE\")\n",
    "search_box.send_keys(\"sunglasses\")"
   ]
  },
  {
   "cell_type": "code",
   "execution_count": 187,
   "id": "538b05cd",
   "metadata": {},
   "outputs": [],
   "source": [
    "B_name=[]\n",
    "Price=[]\n",
    "P_desc=[]\n",
    "Discount=[]"
   ]
  },
  {
   "cell_type": "code",
   "execution_count": 195,
   "id": "f0327b0a",
   "metadata": {},
   "outputs": [],
   "source": [
    "for i in range(len(sunglasses)):\n",
    "    brand = sunglasses[i].find_element(By.XPATH, \".//div[@class='_2WkVRV']\")\n",
    "    brand = brand_element.text\n",
    "    description = sunglasses[i].find_element(By.XPATH, \".//a[@class='IRpwTa']\")\n",
    "    description = description_element.text\n",
    "    price = sunglasses[i].find_element(By.XPATH, \".//div[@class='_30jeq3 _1_WHN1']\")\n",
    "    price = price_element.text\n",
    "    \n",
    "    data.append({\n",
    "        'Brand': brand.text,\n",
    "        'ProductDescription': description.text,\n",
    "        'Price': price.text\n",
    "    })\n",
    "\n",
    "    if len(data) == 100:\n",
    "        break"
   ]
  },
  {
   "cell_type": "code",
   "execution_count": 196,
   "id": "6b9a8344",
   "metadata": {},
   "outputs": [],
   "source": [
    "sun_gl=pd.DataFrame({})\n",
    "sun_gl['Brand_name']=B_name[:100]\n",
    "sun_gl['P_price']=Price[:100]\n",
    "sun_gl['Pr_desc']=P_desc[:100]\n",
    "sun_gl['P_discount']=Discount[:100]"
   ]
  },
  {
   "cell_type": "code",
   "execution_count": 197,
   "id": "0c3e263a",
   "metadata": {},
   "outputs": [
    {
     "data": {
      "text/html": [
       "<div>\n",
       "<style scoped>\n",
       "    .dataframe tbody tr th:only-of-type {\n",
       "        vertical-align: middle;\n",
       "    }\n",
       "\n",
       "    .dataframe tbody tr th {\n",
       "        vertical-align: top;\n",
       "    }\n",
       "\n",
       "    .dataframe thead th {\n",
       "        text-align: right;\n",
       "    }\n",
       "</style>\n",
       "<table border=\"1\" class=\"dataframe\">\n",
       "  <thead>\n",
       "    <tr style=\"text-align: right;\">\n",
       "      <th></th>\n",
       "      <th>Brand_name</th>\n",
       "      <th>P_price</th>\n",
       "      <th>Pr_desc</th>\n",
       "      <th>P_discount</th>\n",
       "    </tr>\n",
       "  </thead>\n",
       "  <tbody>\n",
       "  </tbody>\n",
       "</table>\n",
       "</div>"
      ],
      "text/plain": [
       "Empty DataFrame\n",
       "Columns: [Brand_name, P_price, Pr_desc, P_discount]\n",
       "Index: []"
      ]
     },
     "execution_count": 197,
     "metadata": {},
     "output_type": "execute_result"
    }
   ],
   "source": [
    "sun_gl"
   ]
  },
  {
   "cell_type": "code",
   "execution_count": null,
   "id": "56681ab7",
   "metadata": {},
   "outputs": [],
   "source": []
  }
 ],
 "metadata": {
  "kernelspec": {
   "display_name": "Python 3 (ipykernel)",
   "language": "python",
   "name": "python3"
  },
  "language_info": {
   "codemirror_mode": {
    "name": "ipython",
    "version": 3
   },
   "file_extension": ".py",
   "mimetype": "text/x-python",
   "name": "python",
   "nbconvert_exporter": "python",
   "pygments_lexer": "ipython3",
   "version": "3.11.4"
  }
 },
 "nbformat": 4,
 "nbformat_minor": 5
}
