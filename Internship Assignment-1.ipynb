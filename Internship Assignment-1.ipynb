{
 "cells": [
  {
   "cell_type": "code",
   "execution_count": 214,
   "id": "d0d6792b",
   "metadata": {},
   "outputs": [],
   "source": [
    "import pandas as pd\n",
    "import numpy as np\n",
    "import re\n",
    "import datetime"
   ]
  },
  {
   "cell_type": "code",
   "execution_count": 215,
   "id": "353106c1",
   "metadata": {},
   "outputs": [],
   "source": [
    "#1\n",
    "def replace_colon(text):\n",
    "    replacement = [' ', ',', '.']\n",
    "    for char in replacement:\n",
    "        text = text.replace(char, ':')\n",
    "    return text"
   ]
  },
  {
   "cell_type": "code",
   "execution_count": 216,
   "id": "5942c605",
   "metadata": {},
   "outputs": [],
   "source": [
    "sample_text = 'Data Science, python programme.'\n",
    "result = replace_colon(sample_text)"
   ]
  },
  {
   "cell_type": "code",
   "execution_count": 217,
   "id": "6cda90eb",
   "metadata": {},
   "outputs": [
    {
     "name": "stdout",
     "output_type": "stream",
     "text": [
      "Data:Science::python:programme:\n"
     ]
    }
   ],
   "source": [
    "print(result)"
   ]
  },
  {
   "cell_type": "code",
   "execution_count": 218,
   "id": "d426cb85",
   "metadata": {},
   "outputs": [],
   "source": [
    "#2\n",
    "data = {'SUMMARY': ['hello, world!', 'XXXXX test', '123 four, five:; six...']}\n",
    "df = pd.DataFrame(data)"
   ]
  },
  {
   "cell_type": "code",
   "execution_count": 219,
   "id": "8d845101",
   "metadata": {},
   "outputs": [],
   "source": [
    "def extract_words(text):\n",
    "    words = re.findall(r'\\b[A-Za-z]+\\b', text)  \n",
    "    modified_words = [word.replace('X', '') for word in words]  \n",
    "    return ' '.join(modified_words)"
   ]
  },
  {
   "cell_type": "code",
   "execution_count": 220,
   "id": "7ab7dce7",
   "metadata": {},
   "outputs": [
    {
     "name": "stdout",
     "output_type": "stream",
     "text": [
      "         SUMMARY\n",
      "0    hello world\n",
      "1           test\n",
      "2  four five six\n"
     ]
    }
   ],
   "source": [
    "df['SUMMARY'] = df['SUMMARY'].apply(extract_words)\n",
    "print(df)"
   ]
  },
  {
   "cell_type": "code",
   "execution_count": 221,
   "id": "99e64d22",
   "metadata": {},
   "outputs": [],
   "source": [
    "#3\n",
    "def find_all_words(text):\n",
    "    pattern = re.compile(r'\\b\\w{4,}\\b') \n",
    "    words = pattern.findall(text) \n",
    "    return words"
   ]
  },
  {
   "cell_type": "code",
   "execution_count": 222,
   "id": "cb48445d",
   "metadata": {},
   "outputs": [],
   "source": [
    "text = \"This is a sample string with words of various lengths like hello, world and example.\"\n",
    "result = find_all_words(text)"
   ]
  },
  {
   "cell_type": "code",
   "execution_count": 223,
   "id": "ef23bf05",
   "metadata": {},
   "outputs": [
    {
     "name": "stdout",
     "output_type": "stream",
     "text": [
      "['This', 'sample', 'string', 'with', 'words', 'various', 'lengths', 'like', 'hello', 'world', 'example']\n"
     ]
    }
   ],
   "source": [
    "print (result)"
   ]
  },
  {
   "cell_type": "code",
   "execution_count": 224,
   "id": "a6c5a675",
   "metadata": {},
   "outputs": [],
   "source": [
    "#4\n",
    "def find_specific_length_words(text):\n",
    "    pattern = re.compile(r'\\b\\w{3,5}\\b')  \n",
    "    specific_length = pattern.findall(text) \n",
    "    return specific_length\n",
    "\n"
   ]
  },
  {
   "cell_type": "code",
   "execution_count": 225,
   "id": "e4aab293",
   "metadata": {},
   "outputs": [],
   "source": [
    "text = \"This is a sample string with words of various lengths like hello, world and example.\"\n",
    "result = find_specific_length_words(text)"
   ]
  },
  {
   "cell_type": "code",
   "execution_count": 226,
   "id": "5c73a5da",
   "metadata": {},
   "outputs": [
    {
     "name": "stdout",
     "output_type": "stream",
     "text": [
      "['This', 'with', 'words', 'like', 'hello', 'world', 'and']\n"
     ]
    }
   ],
   "source": [
    "print(result)"
   ]
  },
  {
   "cell_type": "code",
   "execution_count": 227,
   "id": "fb9f227e",
   "metadata": {},
   "outputs": [],
   "source": [
    "#5\n",
    "def extract_domain(strings):\n",
    "    pattern = re.compile(r'\\b(\\w+)\\s*\\(((\\.*?)\\w+)\\)')  \n",
    "    domains = [pattern.sub(r'\\1\\2', string) for string in strings] \n",
    "    return domains"
   ]
  },
  {
   "cell_type": "code",
   "execution_count": 228,
   "id": "9bf167cc",
   "metadata": {},
   "outputs": [],
   "source": [
    "sample_text = [\"example (.com)\", \"hr@fliprobo (.com)\", \"github (.com)\", \"Hello (Data Science World)\", \"Data (Scientist)\"]"
   ]
  },
  {
   "cell_type": "code",
   "execution_count": 229,
   "id": "9c616d05",
   "metadata": {},
   "outputs": [
    {
     "name": "stdout",
     "output_type": "stream",
     "text": [
      "['example.com', 'hr@fliprobo.com', 'github.com', 'Hello (Data Science World)', 'DataScientist']\n"
     ]
    }
   ],
   "source": [
    "result = extract_domain(sample_text)\n",
    "print(result)"
   ]
  },
  {
   "cell_type": "code",
   "execution_count": 230,
   "id": "a74de0b6",
   "metadata": {},
   "outputs": [],
   "source": [
    "#6\n",
    "text = '[\"example (.com)\", \"hr@fliprobo (.com)\", \"github (.com)\", \"Hello (Data Science World)\", \"Data (Scientist)\"]'\n",
    "def remove_parenthesis(text):\n",
    "    pattern = re.compile(r'\\s*\\([^)]*\\)')  \n",
    "    modified_text = pattern.sub('', text)  \n",
    "    return modified_text"
   ]
  },
  {
   "cell_type": "code",
   "execution_count": 231,
   "id": "c7ecce61",
   "metadata": {},
   "outputs": [
    {
     "name": "stdout",
     "output_type": "stream",
     "text": [
      "[\"example\", \"hr@fliprobo\", \"github\", \"Hello\", \"Data\"]\n"
     ]
    }
   ],
   "source": [
    "modified_text = remove_parenthesis(text)\n",
    "with open('sample_text.txt', 'w') as file:\n",
    "    file.write(modified_text)\n",
    "print(modified_text)"
   ]
  },
  {
   "cell_type": "code",
   "execution_count": 232,
   "id": "11a31385",
   "metadata": {},
   "outputs": [],
   "source": [
    "#7\n",
    "text = \"WelcomeToInternshipProgramme\""
   ]
  },
  {
   "cell_type": "code",
   "execution_count": 233,
   "id": "38ca9c06",
   "metadata": {
    "scrolled": true
   },
   "outputs": [
    {
     "name": "stdout",
     "output_type": "stream",
     "text": [
      "['Welcome', 'To', 'Internship', 'Programme']\n"
     ]
    }
   ],
   "source": [
    "output = re.findall(r'[A-z][a-z]*',text)\n",
    "print(output)"
   ]
  },
  {
   "cell_type": "code",
   "execution_count": 234,
   "id": "bb8cb202",
   "metadata": {},
   "outputs": [],
   "source": [
    "#8\n",
    "def insert_spaces_around_integers(text):\n",
    "    pattern = re.compile(r'(\\d)') \n",
    "    modified_text = pattern.sub(r' \\1 ', text) \n",
    "    return modified_text"
   ]
  },
  {
   "cell_type": "code",
   "execution_count": 235,
   "id": "b9c82f0c",
   "metadata": {},
   "outputs": [],
   "source": [
    "text = \"RegularExpression1IsAn2ImportantTopic3InPython\"\n",
    "output = insert_spaces_around_integers(text)"
   ]
  },
  {
   "cell_type": "code",
   "execution_count": 236,
   "id": "c8f7cb86",
   "metadata": {},
   "outputs": [
    {
     "name": "stdout",
     "output_type": "stream",
     "text": [
      "RegularExpression 1 IsAn 2 ImportantTopic 3 InPython\n"
     ]
    }
   ],
   "source": [
    "print(output)"
   ]
  },
  {
   "cell_type": "code",
   "execution_count": 237,
   "id": "3fd32bd1",
   "metadata": {},
   "outputs": [],
   "source": [
    "#9\n",
    "def insert_spaces_around_integers(text):\n",
    "    pattern = re.compile(r'(\\d)') \n",
    "    modified_text = pattern.sub(r' \\1 ', text) \n",
    "    return modified_text\n",
    "sample_text = \"RegularExpression1IsAn2ImportantTopic3InPython\""
   ]
  },
  {
   "cell_type": "code",
   "execution_count": 238,
   "id": "bcc2709f",
   "metadata": {},
   "outputs": [
    {
     "name": "stdout",
     "output_type": "stream",
     "text": [
      "RegularExpression 1 IsAn 2 ImportantTopic 3 InPython\n"
     ]
    }
   ],
   "source": [
    "result = insert_spaces_around_integers(sample_text)\n",
    "print(result)\n"
   ]
  },
  {
   "cell_type": "code",
   "execution_count": 239,
   "id": "ef70631c",
   "metadata": {},
   "outputs": [],
   "source": [
    "#10\n",
    "import pandas as pd\n",
    "url = \"https://raw.githubusercontent.com/dsrscientist/DSData/master/happiness_score_dataset.csv\"\n",
    "df = pd.read_csv(url)\n"
   ]
  },
  {
   "cell_type": "code",
   "execution_count": 240,
   "id": "da8e3a56",
   "metadata": {},
   "outputs": [
    {
     "name": "stdout",
     "output_type": "stream",
     "text": [
      "       Country          Region  Happiness Rank  Happiness Score  \\\n",
      "0  Switzerland  Western Europe               1            7.587   \n",
      "1      Iceland  Western Europe               2            7.561   \n",
      "2      Denmark  Western Europe               3            7.527   \n",
      "3       Norway  Western Europe               4            7.522   \n",
      "4       Canada   North America               5            7.427   \n",
      "\n",
      "   Standard Error  Economy (GDP per Capita)   Family  \\\n",
      "0         0.03411                   1.39651  1.34951   \n",
      "1         0.04884                   1.30232  1.40223   \n",
      "2         0.03328                   1.32548  1.36058   \n",
      "3         0.03880                   1.45900  1.33095   \n",
      "4         0.03553                   1.32629  1.32261   \n",
      "\n",
      "   Health (Life Expectancy)  Freedom  Trust (Government Corruption)  \\\n",
      "0                   0.94143  0.66557                        0.41978   \n",
      "1                   0.94784  0.62877                        0.14145   \n",
      "2                   0.87464  0.64938                        0.48357   \n",
      "3                   0.88521  0.66973                        0.36503   \n",
      "4                   0.90563  0.63297                        0.32957   \n",
      "\n",
      "   Generosity  Dystopia Residual sixletter  \n",
      "0     0.29678            2.51738    Switze  \n",
      "1     0.43630            2.70201    Icelan  \n",
      "2     0.34139            2.49204    Denmar  \n",
      "3     0.34699            2.46531    Norway  \n",
      "4     0.45811            2.45176    Canada  \n"
     ]
    }
   ],
   "source": [
    "df['sixletter'] = df['Country'].str[:6]\n",
    "print(df.head()) "
   ]
  },
  {
   "cell_type": "code",
   "execution_count": 241,
   "id": "912dedb7",
   "metadata": {},
   "outputs": [],
   "source": [
    "#11\n",
    "def match(input_string):\n",
    "    pattern = r'^[a-zA-Z0-9_]+$'\n",
    "    if re.match(pattern, input_string):\n",
    "        return True\n",
    "    else:\n",
    "        return False\n",
    "string = \"Abc123ghijkLMNO_\""
   ]
  },
  {
   "cell_type": "code",
   "execution_count": 242,
   "id": "6f47b99f",
   "metadata": {},
   "outputs": [
    {
     "name": "stdout",
     "output_type": "stream",
     "text": [
      "The string 'Abc123ghijkLMNO_' matches the pattern.\n"
     ]
    }
   ],
   "source": [
    "if match(string):\n",
    "    print(f\"The string '{string}' matches the pattern.\")\n",
    "else:\n",
    "    print(f\"The string '{string}' does not match the pattern.\")"
   ]
  },
  {
   "cell_type": "code",
   "execution_count": 243,
   "id": "df935518",
   "metadata": {},
   "outputs": [],
   "source": [
    "#12\n",
    "def start_number(string, number):\n",
    "    prgm = r'^' + str(number) + r'\\D'\n",
    "    if re.match(prgm, string):\n",
    "        return True\n",
    "    else:\n",
    "        return False\n",
    "text = \"123abc\"\n",
    "specific_number = 123"
   ]
  },
  {
   "cell_type": "code",
   "execution_count": 244,
   "id": "e150ee51",
   "metadata": {},
   "outputs": [],
   "source": [
    "text =\"78934abcdef\""
   ]
  },
  {
   "cell_type": "code",
   "execution_count": 245,
   "id": "62b1ce57",
   "metadata": {},
   "outputs": [
    {
     "name": "stdout",
     "output_type": "stream",
     "text": [
      "The string '78934abcdef' does not start with the number 123.\n"
     ]
    }
   ],
   "source": [
    "if start_number(text, specific_number):\n",
    "    print(f\"The string '{text}' starts with the number {specific_number}.\")\n",
    "else:\n",
    "    print(f\"The string '{text}' does not start with the number {specific_number}.\")"
   ]
  },
  {
   "cell_type": "code",
   "execution_count": 246,
   "id": "dfafbb46",
   "metadata": {},
   "outputs": [],
   "source": [
    "#13\n",
    "def remove_leading_zeros(ip_address):\n",
    "    octets = ip_address.split('.')\n",
    "    cleaned_octets = [str(int(octet)) for octet in octets]\n",
    "    cleaned_ip = '.'.join(cleaned_octets)\n",
    "    return cleaned_ip"
   ]
  },
  {
   "cell_type": "code",
   "execution_count": 247,
   "id": "3381ad19",
   "metadata": {},
   "outputs": [
    {
     "name": "stdout",
     "output_type": "stream",
     "text": [
      "Original IP address: 123.456.010.0101\n",
      "IP address without leading zeros: 123.456.10.101\n"
     ]
    }
   ],
   "source": [
    "ip_with_zeros = \"123.456.010.0101\"\n",
    "cleaned_ip = remove_leading_zeros(ip_with_zeros)\n",
    "print(f\"Original IP address: {ip_with_zeros}\")\n",
    "print(f\"IP address without leading zeros: {cleaned_ip}\")"
   ]
  },
  {
   "cell_type": "code",
   "execution_count": 248,
   "id": "a040e7ec",
   "metadata": {},
   "outputs": [
    {
     "name": "stdout",
     "output_type": "stream",
     "text": [
      "No date found in the text file.\n"
     ]
    }
   ],
   "source": [
    "#14\n",
    "def extract_date_from_text(text):\n",
    "    date_pattern = r\"(January|February|March|April|May|June|July|August|September|October|November|December)\\s+(\\d{1,2})(st|nd|rd|th)?,\\s+(\\d{4})\"\n",
    "    match = re.findall(date_pattern, text)\n",
    "    \n",
    "    if match:\n",
    "        month, day, _, year = match[0]\n",
    "        print(f\"Extracted date: {month} {day}th {year}\")\n",
    "    else:\n",
    "        print(\"No date found in the text file.\")\n",
    "\n",
    "# Example usage:\n",
    "text_to_search = \"17 july 2000.\"\n",
    "extract_date_from_text(text_to_search)"
   ]
  },
  {
   "cell_type": "code",
   "execution_count": 249,
   "id": "12fa887f",
   "metadata": {},
   "outputs": [],
   "source": [
    "#15\n",
    "sample_text = \"The quick brown fox jumps over the lazy dog.\"\n",
    "searched_words = [\"fox\", \"dog\", \"horse\"]\n",
    "word_counts = {}"
   ]
  },
  {
   "cell_type": "code",
   "execution_count": 250,
   "id": "8f472ef1",
   "metadata": {},
   "outputs": [],
   "source": [
    "for word in searched_words:\n",
    "  \n",
    "  count = sample_text.lower().count(word.lower())\n",
    "  \n",
    "  word_counts[word] = count\n"
   ]
  },
  {
   "cell_type": "code",
   "execution_count": 251,
   "id": "1b974530",
   "metadata": {},
   "outputs": [
    {
     "name": "stdout",
     "output_type": "stream",
     "text": [
      "Found 'fox' 1 times.\n",
      "Found 'dog' 1 times.\n",
      "Word 'horse' not found.\n"
     ]
    }
   ],
   "source": [
    "for word, count in word_counts.items():\n",
    "    if count > 0:\n",
    "        print(f\"Found '{word}' {count} times.\")\n",
    "    else:\n",
    "        print(f\"Word '{word}' not found.\")"
   ]
  },
  {
   "cell_type": "code",
   "execution_count": 252,
   "id": "d5e86ff8",
   "metadata": {},
   "outputs": [],
   "source": [
    "#16\n",
    "text = 'The quick brown fox jumps over the lazy dog.'\n",
    "pattern = 'fox'\n",
    "match = re.search(pattern, text)"
   ]
  },
  {
   "cell_type": "code",
   "execution_count": 253,
   "id": "ec4a5bb6",
   "metadata": {},
   "outputs": [
    {
     "name": "stdout",
     "output_type": "stream",
     "text": [
      "The pattern 'fox' was found in the text.\n",
      "The location of the pattern is:\n",
      "Start index: 16\n",
      "End index: 19\n"
     ]
    }
   ],
   "source": [
    "if match:\n",
    "    start_index = match.start()\n",
    "    end_index = match.end()\n",
    "    print(\"The pattern '{}' was found in the text.\".format(pattern))\n",
    "    print(\"The location of the pattern is:\")\n",
    "    print(\"Start index: {}\".format(start_index))\n",
    "    print(\"End index: {}\".format(end_index))\n",
    "else:\n",
    "    print(\"The pattern '{}' was not found in the text.\".format(pattern))"
   ]
  },
  {
   "cell_type": "code",
   "execution_count": 254,
   "id": "e7f14ad8",
   "metadata": {},
   "outputs": [],
   "source": [
    "#17\n",
    "text = 'Python exercises, PHP exercises, C# exercises'\n",
    "pat = 'exercises'\n",
    "matches = re.findall(pat, text)"
   ]
  },
  {
   "cell_type": "code",
   "execution_count": 255,
   "id": "68363968",
   "metadata": {},
   "outputs": [
    {
     "name": "stdout",
     "output_type": "stream",
     "text": [
      "The following substrings were found:\n",
      "exercises\n",
      "exercises\n",
      "exercises\n"
     ]
    }
   ],
   "source": [
    "if matches:\n",
    "    print(\"The following substrings were found:\")\n",
    "    for match in matches:\n",
    "        print(match)\n",
    "else:\n",
    "    print(\"The pattern '{}' was not found in the text.\")"
   ]
  },
  {
   "cell_type": "code",
   "execution_count": 256,
   "id": "81964af4",
   "metadata": {},
   "outputs": [],
   "source": [
    "#18\n",
    "text = \"Sun rises in the east\"\n",
    "substring = \"i\""
   ]
  },
  {
   "cell_type": "code",
   "execution_count": 257,
   "id": "6184b2d7",
   "metadata": {},
   "outputs": [],
   "source": [
    "occurr = [(i, match) for i, match in enumerate(text.split(substring)) if match]"
   ]
  },
  {
   "cell_type": "code",
   "execution_count": 258,
   "id": "6bc96a65",
   "metadata": {},
   "outputs": [
    {
     "name": "stdout",
     "output_type": "stream",
     "text": [
      "The substring 'i' occurs 3 times in the text:\n",
      "At position 1: 'Sun r'\n",
      "At position 2: 'ses '\n",
      "At position 3: 'n the east'\n"
     ]
    }
   ],
   "source": [
    "if occurr:\n",
    "    print(f\"The substring '{substring}' occurs {len(occurr)} times in the text:\")\n",
    "    for index, match in occurr:\n",
    "        print(f\"At position {index + 1}: '{match}'\")\n",
    "else:\n",
    "    print(f\"The substring '{substr}' was not found in the text.\")"
   ]
  },
  {
   "cell_type": "code",
   "execution_count": 259,
   "id": "036170c9",
   "metadata": {},
   "outputs": [],
   "source": [
    "#19\n",
    "original_date = \"2024-02-01\"\n",
    "\n",
    "year, month, day = map(int, original_date.split(\"-\"))\n",
    "\n",
    "date_obj = datetime.datetime(year, month, day)"
   ]
  },
  {
   "cell_type": "code",
   "execution_count": 260,
   "id": "4edb272c",
   "metadata": {},
   "outputs": [
    {
     "name": "stdout",
     "output_type": "stream",
     "text": [
      "Original date:\n",
      "Formatted date: 01-02-2024\n"
     ]
    }
   ],
   "source": [
    "convert = date_obj.strftime(\"%d-%m-%Y\")  \n",
    "\n",
    "print(\"Original date:\")\n",
    "print(\"Formatted date:\", convert)"
   ]
  },
  {
   "cell_type": "code",
   "execution_count": 261,
   "id": "8db6744f",
   "metadata": {},
   "outputs": [],
   "source": [
    "#20\n",
    "def find_one_and_two_decimal_number(text):\n",
    "    pattern = re.compile(r'\\b\\d*\\.?\\d{1,2}\\b')\n",
    "    mat = pattern.findall(text)\n",
    "    return mat\n"
   ]
  },
  {
   "cell_type": "code",
   "execution_count": 262,
   "id": "b46cfcf5",
   "metadata": {},
   "outputs": [],
   "source": [
    "sample = \"01.12 0132.123 2.31875 145.8 3.01 27.25 0.25\"\n",
    "rslt = find_one_and_two_decimal_number(sample)\n"
   ]
  },
  {
   "cell_type": "code",
   "execution_count": 263,
   "id": "afbd394d",
   "metadata": {},
   "outputs": [
    {
     "name": "stdout",
     "output_type": "stream",
     "text": [
      "Original text: 01.12 0132.123 2.31875 145.8 3.01 27.25 0.25\n",
      "Decimal numbers with precision of 1 or 2 in a string: ['01.12', '0132', '123', '2', '31875', '145.8', '3.01', '27.25', '0.25']\n"
     ]
    }
   ],
   "source": [
    "print(\"Original text:\", sample)\n",
    "print(\"Decimal numbers with precision of 1 or 2 in a string:\", rslt)"
   ]
  },
  {
   "cell_type": "code",
   "execution_count": 264,
   "id": "5cf0961f",
   "metadata": {},
   "outputs": [],
   "source": [
    "#21\n",
    "text = \"Mr Sahani has 4 cars as well as 100.65 acers land.\"\n",
    "num = re.findall(r\"\\d+(?:\\.\\d+)?\", text)"
   ]
  },
  {
   "cell_type": "code",
   "execution_count": 265,
   "id": "933e52c2",
   "metadata": {},
   "outputs": [
    {
     "name": "stdout",
     "output_type": "stream",
     "text": [
      "Number 1: 4 (at position 14)\n",
      "Number 2: 100.65 (at position 32)\n"
     ]
    }
   ],
   "source": [
    "for i, number in enumerate(num):\n",
    "    start_index = text.find(number)  \n",
    "\n",
    "    print(f\"Number {i + 1}: {number} (at position {start_index})\") "
   ]
  },
  {
   "cell_type": "code",
   "execution_count": 266,
   "id": "91948095",
   "metadata": {},
   "outputs": [],
   "source": [
    "#22\n",
    "text = \"My marks in each semester are: 947, 896, 926, 524, 734, 950, 642\"\n",
    "numbers = re.findall(r\"\\d+\", text)\n",
    "intgs = [int(num) for num in numbers]\n",
    "max_value = max(intgs)"
   ]
  },
  {
   "cell_type": "code",
   "execution_count": 267,
   "id": "67522afe",
   "metadata": {},
   "outputs": [
    {
     "name": "stdout",
     "output_type": "stream",
     "text": [
      "My marks in each semester are: 947, 896, 926, 524, 734, 950, 642\n",
      "Maximum numeric value from the String upon Sample Text: 950\n"
     ]
    }
   ],
   "source": [
    "print(text)\n",
    "print(\"Maximum numeric value from the String upon Sample Text:\", max_value)"
   ]
  },
  {
   "cell_type": "code",
   "execution_count": 268,
   "id": "9bf91ffa",
   "metadata": {},
   "outputs": [],
   "source": [
    "#23\n",
    "def insert_spaces_btn(text):\n",
    "    pattern = r\"(?<!\\b\\w)([A-Z])\" \n",
    "    return re.sub(pattern, r\" \\1\", text)\n",
    "text = \"RegularExpressionIsAnImportantTopicInPython\""
   ]
  },
  {
   "cell_type": "code",
   "execution_count": 269,
   "id": "813cb89d",
   "metadata": {},
   "outputs": [
    {
     "name": "stdout",
     "output_type": "stream",
     "text": [
      " Regular Expression Is An Important Topic In Python\n"
     ]
    }
   ],
   "source": [
    "OUTPUT = insert_spaces_btn(text)\n",
    "print(OUTPUT)"
   ]
  },
  {
   "cell_type": "code",
   "execution_count": 270,
   "id": "8647e84f",
   "metadata": {},
   "outputs": [],
   "source": [
    "#24\n",
    "text = \"The Roses Are RedWhite.\"\n",
    "pattern = r\"[A-Z][a-z]+\"\n",
    "matches = re.findall(pattern, text)"
   ]
  },
  {
   "cell_type": "code",
   "execution_count": 271,
   "id": "bed098d3",
   "metadata": {},
   "outputs": [
    {
     "name": "stdout",
     "output_type": "stream",
     "text": [
      "SEQUENCE: ['The', 'Roses', 'Are', 'Red', 'White']\n"
     ]
    }
   ],
   "source": [
    "print(\"SEQUENCE:\", matches)"
   ]
  },
  {
   "cell_type": "code",
   "execution_count": 272,
   "id": "de12114b",
   "metadata": {},
   "outputs": [],
   "source": [
    "#25\n",
    "def remove_continuous(text):\n",
    "    pattern = r\"\\b(\\w+)( \\1\\b)+\"\n",
    "    remove = re.sub(pattern, r\"\\1\", text)\n",
    "    return remove\n",
    "\n",
    "text = \"Hello hello world world\""
   ]
  },
  {
   "cell_type": "code",
   "execution_count": 273,
   "id": "286e5818",
   "metadata": {},
   "outputs": [
    {
     "name": "stdout",
     "output_type": "stream",
     "text": [
      "Hello hello world\n"
     ]
    }
   ],
   "source": [
    "result = remove_continuous(text)\n",
    "print(result)"
   ]
  },
  {
   "cell_type": "code",
   "execution_count": 288,
   "id": "fa77af38",
   "metadata": {},
   "outputs": [
    {
     "name": "stdout",
     "output_type": "stream",
     "text": [
      "Text that ends with an alphanumeric character: wel12345\", \"to$\"  ,\"program_!\" ,\"welcome to internship\n"
     ]
    }
   ],
   "source": [
    "#26\n",
    "def validate(text):\n",
    "    pattern = r\"\\w$\" \n",
    "    return bool(re.search(pattern, text))\n",
    "\n",
    "test_strings = ['wel12345\", \"to$\"  ,\"program_!\" ,\"welcome to internship']\n",
    "for text in test_strings:\n",
    "    if validate(text):\n",
    "        print(f\"Text that ends with an alphanumeric character: {text}\")\n",
    "    else:\n",
    "        print(f\"Text that does not end with an alphanumeric character: {text}\")"
   ]
  },
  {
   "cell_type": "code",
   "execution_count": 289,
   "id": "a533a2a8",
   "metadata": {},
   "outputs": [],
   "source": [
    "test = ['wel12345\", \"to$\"  ,\"program_!\" ,\"welcome to internship']"
   ]
  },
  {
   "cell_type": "code",
   "execution_count": 290,
   "id": "5fbe7233",
   "metadata": {},
   "outputs": [
    {
     "name": "stdout",
     "output_type": "stream",
     "text": [
      " ends with an alphanumeric character is:wel12345\", \"to$\"  ,\"program_!\" ,\"welcome to internship\n"
     ]
    }
   ],
   "source": [
    " for text in test_strings:\n",
    "    if validate(text):\n",
    "        print(f\" ends with an alphanumeric character is:{text}\")\n",
    "    else:\n",
    "        print(f\" does not end with an alphanumeric character is:{text}\")"
   ]
  },
  {
   "cell_type": "code",
   "execution_count": 277,
   "id": "dc9e54e5",
   "metadata": {},
   "outputs": [],
   "source": [
    "#27\n",
    "def extract_hash(text):\n",
    "    pattern = r\"#\\w+\"\n",
    "    matches = re.findall(pattern, text)\n",
    "    return matches\n",
    "s_txt= \"\"\"RT @kapil_kausik: #Doltiwal I mean #xyzabc is \"hurt\" by #Demonetization as the same has rendered USELESS <ed><U+00A0><U+00BD><ed><U+00B1><U+0089> \"acquired funds\" No wo\"\"\""
   ]
  },
  {
   "cell_type": "code",
   "execution_count": 278,
   "id": "c28f38f4",
   "metadata": {},
   "outputs": [
    {
     "name": "stdout",
     "output_type": "stream",
     "text": [
      "['#Doltiwal', '#xyzabc', '#Demonetization']\n"
     ]
    }
   ],
   "source": [
    "hashtags = extract_hash(s_txt)\n",
    "print(hashtags)"
   ]
  },
  {
   "cell_type": "code",
   "execution_count": 279,
   "id": "24cda475",
   "metadata": {},
   "outputs": [],
   "source": [
    "#28\n",
    "def remove_u_plus(text):\n",
    "    pattern = r\"<U\\+[0-9A-F]{4}>\"\n",
    "    cleaned_text =  re.sub(pattern, \"\", text)\n",
    "    return cleaned_text"
   ]
  },
  {
   "cell_type": "code",
   "execution_count": 280,
   "id": "6d615785",
   "metadata": {},
   "outputs": [],
   "source": [
    "text = \"@Jags123456 Bharat band on 28??<ed><U+00A0><U+00BD><ed><U+00B8><U+0082>Those who are protesting #demonetization are all different party leaders\"\n"
   ]
  },
  {
   "cell_type": "code",
   "execution_count": 281,
   "id": "37122420",
   "metadata": {},
   "outputs": [
    {
     "name": "stdout",
     "output_type": "stream",
     "text": [
      "@Jags123456 Bharat band on 28??<ed><ed>Those who are protesting #demonetization are all different party leaders\n"
     ]
    }
   ],
   "source": [
    "result = remove_u_plus(text)\n",
    "print(result)"
   ]
  },
  {
   "cell_type": "code",
   "execution_count": 291,
   "id": "7a7282ff",
   "metadata": {},
   "outputs": [],
   "source": [
    "#29\n",
    "def extract_dates(filename):\n",
    "    pattern = r\"\\d{2}-\\d{2}-\\d{4}\"  # Added 'r' for a raw string\n",
    "    with open(filename) as file:\n",
    "        text = file.read()\n",
    "        dates = re.findall(pattern, text)\n",
    "        return dates"
   ]
  },
  {
   "cell_type": "code",
   "execution_count": 292,
   "id": "befde538",
   "metadata": {},
   "outputs": [
    {
     "name": "stdout",
     "output_type": "stream",
     "text": [
      "Extracted dates: ['12-09-1992', '15-12-1999']\n"
     ]
    }
   ],
   "source": [
    "filename = \"ron.csv\"  # Corrected variable name\n",
    "extracted_dates = extract_dates(filename)\n",
    "print(\"Extracted dates:\", extracted_dates)"
   ]
  },
  {
   "cell_type": "code",
   "execution_count": 293,
   "id": "3cf2592f",
   "metadata": {},
   "outputs": [],
   "source": [
    "#30\n",
    "def remove_2and4_words(text):\n",
    "    pattern = re.compile(r\"\\b\\w{2,4}\\b\")\n",
    "    delete = pattern.sub(\"\", text)  \n",
    "    return delete "
   ]
  },
  {
   "cell_type": "code",
   "execution_count": 294,
   "id": "83a74975",
   "metadata": {},
   "outputs": [],
   "source": [
    "text = \"The following example creates an ArrayList with a capacity of 50 elements. 4 elements are then added to the ArrayList and the ArrayList is trimmed accordingly.\"\n"
   ]
  },
  {
   "cell_type": "code",
   "execution_count": 295,
   "id": "b5addbad",
   "metadata": {},
   "outputs": [
    {
     "name": "stdout",
     "output_type": "stream",
     "text": [
      " following example creates  ArrayList  a capacity   elements. 4 elements   added   ArrayList   ArrayList  trimmed accordingly.\n"
     ]
    }
   ],
   "source": [
    "result = remove_2and4_words(text)\n",
    "print(result)"
   ]
  },
  {
   "cell_type": "markdown",
   "id": "7f24d12b",
   "metadata": {},
   "source": [
    "                                  THANK YOU"
   ]
  }
 ],
 "metadata": {
  "kernelspec": {
   "display_name": "Python 3 (ipykernel)",
   "language": "python",
   "name": "python3"
  },
  "language_info": {
   "codemirror_mode": {
    "name": "ipython",
    "version": 3
   },
   "file_extension": ".py",
   "mimetype": "text/x-python",
   "name": "python",
   "nbconvert_exporter": "python",
   "pygments_lexer": "ipython3",
   "version": "3.11.4"
  }
 },
 "nbformat": 4,
 "nbformat_minor": 5
}
