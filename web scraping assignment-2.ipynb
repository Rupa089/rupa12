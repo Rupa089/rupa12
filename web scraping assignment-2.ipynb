{
 "cells": [
  {
   "cell_type": "code",
   "execution_count": 2,
   "id": "1ebd79ce",
   "metadata": {},
   "outputs": [],
   "source": [
    "#1Write a python program to display IMDB’s Top rated 100 Indian movies’ data (i.e. name, rating, year ofrelease) and make data frame\n",
    "from bs4 import BeautifulSoup \n",
    "import requests\n",
    "import pandas as pd\n",
    "import csv"
   ]
  },
  {
   "cell_type": "code",
   "execution_count": 3,
   "id": "9b30d4bb",
   "metadata": {},
   "outputs": [],
   "source": [
    "url= 'https://www.imdb.com/list/ls056092300/'"
   ]
  },
  {
   "cell_type": "code",
   "execution_count": 4,
   "id": "2e6a4ba7",
   "metadata": {},
   "outputs": [],
   "source": [
    "def get_page_contents(movies_url):\n",
    "    response = requests.get(movies_url, headers={\"Accept-Language\": \"en-US\"})\n",
    "    return BeautifulSoup(response.text, \"html.parser\")\n",
    "doc = get_page_contents('http://www.imdb.com/chart/top')"
   ]
  },
  {
   "cell_type": "code",
   "execution_count": 5,
   "id": "abe6133a",
   "metadata": {},
   "outputs": [],
   "source": [
    "movies = doc.find_all('div',{'class':\"lister-item-content\"})"
   ]
  },
  {
   "cell_type": "code",
   "execution_count": 6,
   "id": "e4fd0599",
   "metadata": {},
   "outputs": [],
   "source": [
    "title = [movie.find('a').text for movie in movies]\n",
    "release_year = [movie.find('span', {'class':'lister-item-year text-muted unbold'}).text for movie in movies]\n",
    "audience_rating = [movie.find('div', {'class':'inline-block ratings-imdb-rating'}).text.strip() for movie in movies]\n",
    "genre = [movie.find('span', {'class':'genre'}).text.strip() for movie in movies]\n",
    "runtime = [movie.find('span', {'class':'runtime'}).text for movie in movies]"
   ]
  },
  {
   "cell_type": "code",
   "execution_count": 7,
   "id": "963a40e2",
   "metadata": {},
   "outputs": [
    {
     "data": {
      "text/html": [
       "<div>\n",
       "<style scoped>\n",
       "    .dataframe tbody tr th:only-of-type {\n",
       "        vertical-align: middle;\n",
       "    }\n",
       "\n",
       "    .dataframe tbody tr th {\n",
       "        vertical-align: top;\n",
       "    }\n",
       "\n",
       "    .dataframe thead th {\n",
       "        text-align: right;\n",
       "    }\n",
       "</style>\n",
       "<table border=\"1\" class=\"dataframe\">\n",
       "  <thead>\n",
       "    <tr style=\"text-align: right;\">\n",
       "      <th></th>\n",
       "      <th>Title</th>\n",
       "      <th>Release year</th>\n",
       "      <th>Audience rating</th>\n",
       "      <th>Genre</th>\n",
       "      <th>Runtime</th>\n",
       "    </tr>\n",
       "  </thead>\n",
       "  <tbody>\n",
       "  </tbody>\n",
       "</table>\n",
       "</div>"
      ],
      "text/plain": [
       "Empty DataFrame\n",
       "Columns: [Title, Release year, Audience rating, Genre, Runtime]\n",
       "Index: []"
      ]
     },
     "execution_count": 7,
     "metadata": {},
     "output_type": "execute_result"
    }
   ],
   "source": [
    "movies_dict = {\n",
    "    'Title' : title,\n",
    "    'Release year' : release_year,\n",
    "    'Audience rating' : audience_rating,\n",
    "    'Genre' : genre,\n",
    "    'Runtime' : runtime\n",
    "}\n",
    "movies_df = pd.DataFrame(movies_dict)\n",
    "movies_df"
   ]
  },
  {
   "cell_type": "code",
   "execution_count": 8,
   "id": "a767f193",
   "metadata": {},
   "outputs": [],
   "source": [
    "#2Write a python program to scrape product name, price and discounts from url='https://peachmode.com/search?q=bags'"
   ]
  },
  {
   "cell_type": "code",
   "execution_count": 9,
   "id": "c3ca993f",
   "metadata": {},
   "outputs": [],
   "source": [
    "url = 'https://peachmode.com/search?q=bags'"
   ]
  },
  {
   "cell_type": "code",
   "execution_count": 11,
   "id": "c3384383",
   "metadata": {},
   "outputs": [],
   "source": [
    "response = requests.get(url)\n",
    "soup = BeautifulSoup(response.content,\"html.parser\")"
   ]
  },
  {
   "cell_type": "code",
   "execution_count": 175,
   "id": "f77a04f3",
   "metadata": {},
   "outputs": [],
   "source": [
    "product_containers = soup.find_all(\"div\", class_=\"product-card\")\n",
    "product_details = []"
   ]
  },
  {
   "cell_type": "code",
   "execution_count": 179,
   "id": "6e89ee6a",
   "metadata": {},
   "outputs": [],
   "source": [
    "for product in product_containers:\n",
    "    product_name = product.find(\"div\",{\"class\":\"product-title\"})\n",
    "    product_name.append(i.text)\n",
    "    \n",
    "    product_name"
   ]
  },
  {
   "cell_type": "code",
   "execution_count": 180,
   "id": "6f0112d4",
   "metadata": {},
   "outputs": [],
   "source": [
    "product_price = []\n",
    "for product in product_price: \n",
    "    product_price = item.find(\"div\", {\"class\":\"st-product-prices\"}) \n",
    "    product_price.append(i.text)\n",
    "    \n",
    "    product_price"
   ]
  },
  {
   "cell_type": "code",
   "execution_count": 181,
   "id": "f1384ca1",
   "metadata": {},
   "outputs": [],
   "source": [
    "product_discount = []\n",
    "for product in product_discount:\n",
    "    prouct_discount = item.fin(\"div\",{\"class\":\"sc-lbVpMG bhhajB\"})\n",
    "    product_discount.append(i.text)\n",
    "    \n",
    "    product_discount"
   ]
  },
  {
   "cell_type": "code",
   "execution_count": 182,
   "id": "0ebddc43",
   "metadata": {},
   "outputs": [
    {
     "data": {
      "text/html": [
       "<div>\n",
       "<style scoped>\n",
       "    .dataframe tbody tr th:only-of-type {\n",
       "        vertical-align: middle;\n",
       "    }\n",
       "\n",
       "    .dataframe tbody tr th {\n",
       "        vertical-align: top;\n",
       "    }\n",
       "\n",
       "    .dataframe thead th {\n",
       "        text-align: right;\n",
       "    }\n",
       "</style>\n",
       "<table border=\"1\" class=\"dataframe\">\n",
       "  <thead>\n",
       "    <tr style=\"text-align: right;\">\n",
       "      <th></th>\n",
       "      <th>product name</th>\n",
       "      <th>product price</th>\n",
       "      <th>product discount</th>\n",
       "    </tr>\n",
       "  </thead>\n",
       "  <tbody>\n",
       "  </tbody>\n",
       "</table>\n",
       "</div>"
      ],
      "text/plain": [
       "Empty DataFrame\n",
       "Columns: [product name, product price, product discount]\n",
       "Index: []"
      ]
     },
     "execution_count": 182,
     "metadata": {},
     "output_type": "execute_result"
    }
   ],
   "source": [
    "df = pd.DataFrame({'product name':product_names,'product price':product_price,'product discount':product_discount})\n",
    "df"
   ]
  },
  {
   "cell_type": "code",
   "execution_count": null,
   "id": "b1983bf7",
   "metadata": {},
   "outputs": [],
   "source": [
    "#3Write a python program to scrape cricket rankings from icc-cricket.com. You have to scrape:\n",
    "#a) Top 10 ODI teams in men’s cricket along with the records for matches, points and rating.\n",
    "#b) Top 10 ODI Batsmen along with the records of their team and rating.\n",
    "#c) Top 10 ODI bowlers along with the records of their team and rating."
   ]
  },
  {
   "cell_type": "code",
   "execution_count": 12,
   "id": "9a8c7799",
   "metadata": {},
   "outputs": [],
   "source": [
    "url = 'https://www.icc-cricket.com/rankings/mens/team-rankings/odi'"
   ]
  },
  {
   "cell_type": "code",
   "execution_count": 13,
   "id": "5a5eedb7",
   "metadata": {},
   "outputs": [],
   "source": [
    " response = requests.get(url)\n",
    "soup = BeautifulSoup(response.content)\n",
    "teams_rows = soup.select('table.table tbody tr')"
   ]
  },
  {
   "cell_type": "code",
   "execution_count": 35,
   "id": "c1f41eda",
   "metadata": {},
   "outputs": [],
   "source": [
    "for row in team_rows:\n",
    "    rank = row.select_one(\"span\",{\"class\":\"si-table-data si-pos\"})\n",
    "    team = row.select_one(\"span\",{\"class\":\"si-table-data si-matches\"})\n",
    "    matches = row.select_one(\"div\",{\"class\":\"si-table-data si-pts\"})\n",
    "    points = row.select_one(\"div\",{\"class\":\"si-table-data si-pts\"})\n",
    "    rating = row.select_one(\"div\",{\"class\":\"si-table-data si-rating\"})\n",
    "    team_data.append([rank, team, matches, points, rating])"
   ]
  },
  {
   "cell_type": "code",
   "execution_count": 36,
   "id": "4091c368",
   "metadata": {},
   "outputs": [
    {
     "name": "stdout",
     "output_type": "stream",
     "text": [
      "Top 10 ODI Teams:\n",
      "Empty DataFrame\n",
      "Columns: [Rank, Team, Matches, Points, Rating]\n",
      "Index: []\n"
     ]
    }
   ],
   "source": [
    "teams_df = pd.DataFrame(team_data, columns=['Rank', 'Team', 'Matches', 'Points', 'Rating'])\n",
    "print(\"Top 10 ODI Teams:\")\n",
    "print(teams_df.head(10))"
   ]
  },
  {
   "cell_type": "code",
   "execution_count": 67,
   "id": "c12f5f83",
   "metadata": {},
   "outputs": [],
   "source": [
    "#b) Top 10 ODI Batsmen along with the records of their team and rating.\n",
    "response = requests.get(url)\n",
    "soup = BeautifulSoup(response.content)\n",
    "teams_rows = soup.select('table.table tbody tr')\n",
    "batsmen_rows = soup.select('table.table tbody tr')"
   ]
  },
  {
   "cell_type": "code",
   "execution_count": 53,
   "id": "e8138c90",
   "metadata": {},
   "outputs": [],
   "source": [
    "batsmen_data = []\n",
    "for row in batsmen_rows:\n",
    "  \n",
    "    player = row.select_one(\"div\",{\"class\":\"si-table-data si-team\"})\n",
    "    team = row.select_one(\"div\",{\"class\":\"si-table-data si-team\"})\n",
    "    rating = row.select_one(\"span\",{\"class\":\"si-table-data si-rating\"})\n",
    "    batsmen_data.append([rank, player, team, rating])"
   ]
  },
  {
   "cell_type": "code",
   "execution_count": 54,
   "id": "32bc2c02",
   "metadata": {},
   "outputs": [
    {
     "name": "stdout",
     "output_type": "stream",
     "text": [
      "Top 10 ODI Batsmen:\n",
      "Empty DataFrame\n",
      "Columns: [Player, Team, Rating]\n",
      "Index: []\n"
     ]
    }
   ],
   "source": [
    "batsmen_df = pd.DataFrame(batsmen_data, columns=[ 'Player', 'Team', 'Rating'])\n",
    "print(\"Top 10 ODI Batsmen:\")\n",
    "print(batsmen_df.head(10))"
   ]
  },
  {
   "cell_type": "code",
   "execution_count": 68,
   "id": "1a8157cc",
   "metadata": {},
   "outputs": [],
   "source": [
    "#c) Top 10 ODI bowlers along with the records of their team and rating.\n",
    "response = requests.get(url)\n",
    "soup = BeautifulSoup(response.content)\n",
    "teams_rows = soup.select('table.table tbody tr')\n",
    "bowlers_rows = soup.select('table.table tbody tr')"
   ]
  },
  {
   "cell_type": "code",
   "execution_count": 70,
   "id": "f5e7140f",
   "metadata": {},
   "outputs": [
    {
     "name": "stdout",
     "output_type": "stream",
     "text": [
      "Top 10 ODI bowlers:\n",
      "Empty DataFrame\n",
      "Columns: [Player, Team, Rating]\n",
      "Index: []\n"
     ]
    }
   ],
   "source": [
    "bowlers_data = []\n",
    "for row in bowlers_rows:\n",
    "  \n",
    "    player = row.select_one(\"div\",{\"class\":\"si-table-data si-player\"})\n",
    "    team = row.select_one(\"div\",{\"class\":\"si-table-data si-team\"})\n",
    "    rating = row.select_one(\"span\",{\"class\":\"si-table-data si-rating\"})\n",
    "    bowlers_data.append([rank, player, team, rating])\n",
    "\n",
    "bowlers_df = pd.DataFrame(bowlers_data, columns=[ 'Player', 'Team', 'Rating'])\n",
    "print(\"Top 10 ODI bowlers:\")\n",
    "print(bowlers_df.head(10))"
   ]
  },
  {
   "cell_type": "code",
   "execution_count": 77,
   "id": "e7bbd0cb",
   "metadata": {},
   "outputs": [],
   "source": [
    "#4Write a python program to scrape details of all the posts from https://www.patreon.com/coreyms .Scrape the\n",
    "#heading, date, content and the likes for the video from the link for the youtube video from the post."
   ]
  },
  {
   "cell_type": "code",
   "execution_count": 14,
   "id": "e8545ac6",
   "metadata": {},
   "outputs": [],
   "source": [
    "url = \"https://www.patreon.com/coreyms\""
   ]
  },
  {
   "cell_type": "code",
   "execution_count": 15,
   "id": "4a156982",
   "metadata": {},
   "outputs": [],
   "source": [
    "response = requests.get(url)\n",
    "soup = BeautifulSoup(response.content)\n",
    "post_containers = soup.find_all(\"div\", class_=\"post-container\")"
   ]
  },
  {
   "cell_type": "code",
   "execution_count": 113,
   "id": "5fbbf314",
   "metadata": {},
   "outputs": [],
   "source": [
    "for post in post_containers:\n",
    "    heading = post.find(\"h2\",{\"class\":\"sc-dlVxhl gJYudr\"})\n",
    "    date = post.find(\"time\",{\"class\":\"sc-mz8f26-0 gvyUof\"})\n",
    "    content = post.find('p',{\"class\":\"sc-fotOHu hJqeZM\"})\n",
    "    likes = post.find('span',{\"class\":\"sc-dJjYzT dHaHzA\"})\n",
    "\n",
    "    \n",
    "    print(f\"Heading: {heading}\")\n",
    "    print(f\"Date: {date}\")\n",
    "    print(f\"Content: {content}\")\n",
    "    print(f\"Likes: {likes}\\n\")"
   ]
  },
  {
   "cell_type": "code",
   "execution_count": null,
   "id": "99971564",
   "metadata": {},
   "outputs": [],
   "source": [
    "#5Write a python program to scrape house details from mentioned URL. It should include house title, location,\n",
    "#area, EMI and price from https://www.nobroker.in/ .Enter three localities which are Indira Nagar, Jayanagar,Rajaji Nagar.\n"
   ]
  },
  {
   "cell_type": "code",
   "execution_count": 16,
   "id": "1e18876c",
   "metadata": {},
   "outputs": [],
   "source": [
    "url = 'https://www.nobroker.in/'\n",
    "localities = [\"Indira Nagar\", \"Jayanagar\", \"Rajaji Nagar\"]"
   ]
  },
  {
   "cell_type": "code",
   "execution_count": 18,
   "id": "701cd9bd",
   "metadata": {},
   "outputs": [],
   "source": [
    "response = requests.get(url)\n",
    "soup = BeautifulSoup(response.content)\n",
    "property_container = soup.find_all(\"div\", class_=\"post-container\")"
   ]
  },
  {
   "cell_type": "code",
   "execution_count": 124,
   "id": "a637167e",
   "metadata": {},
   "outputs": [],
   "source": [
    " property_containers = soup.find_all(\"div\", class_=\"property-list\")"
   ]
  },
  {
   "cell_type": "code",
   "execution_count": 152,
   "id": "6d7604b1",
   "metadata": {},
   "outputs": [],
   "source": [
    "for item in soup.find_all('div', class_='property-card'):\n",
    "    title = prop.find(\"div\",{\"class\":\"heading-6 flex items-center font-semi-bold m-0\"})\n",
    "    location = prop.find(\"span\",{\"class\":\"listpage-serach-selected-localities\"})\n",
    "    area = prop.find(\"div\",{\"class\":\"h-1.8 w-1.8\"})\n",
    "    emi = prop.find(\"div\",{\"class\":\"font-semi-bold heading-6\"})\n",
    "    price = prop.find(\"div\", {\"class\":\"heading-7 flex\"})\n",
    "\n",
    "    print(\"Title:\", title)\n",
    "    print(\"Location:\", location)\n",
    "    print(\"Area:\", area)\n",
    "    print(\"EMI:\", emi)\n",
    "    print(\"Price:\", price)"
   ]
  },
  {
   "cell_type": "code",
   "execution_count": null,
   "id": "f76dc6ea",
   "metadata": {},
   "outputs": [],
   "source": [
    "#6Write a python program to scrape first 10 product details which include product name , price , Image URL from https://www.bewakoof.com/bestseller?sort=popular "
   ]
  },
  {
   "cell_type": "code",
   "execution_count": 19,
   "id": "8e5e1988",
   "metadata": {},
   "outputs": [],
   "source": [
    "url =  'https://www.bewakoof.com/bestseller?sort=popular'"
   ]
  },
  {
   "cell_type": "code",
   "execution_count": 20,
   "id": "b98eeecd",
   "metadata": {},
   "outputs": [],
   "source": [
    "response = requests.get(url)\n",
    "soup = BeautifulSoup(response.content, \"html.parser\")\n",
    "products = soup.find_all(\"div\", class_=\"productCardBox\")"
   ]
  },
  {
   "cell_type": "code",
   "execution_count": 166,
   "id": "61168402",
   "metadata": {
    "collapsed": true
   },
   "outputs": [
    {
     "name": "stdout",
     "output_type": "stream",
     "text": [
      "Product 1:\n",
      "Name: None\n",
      "Price: None\n",
      "Image URL: https://images.bewakoof.com/t640/men-s-black-t-shirts-1094-1708612740-1.jpg\n",
      "Product 2:\n",
      "Name: None\n",
      "Price: None\n",
      "Image URL: https://images.bewakoof.com/t640/women-s-blue-round-in-bugs-graphic-printed-oversized-short-top-589789-1707221362-1.jpg\n",
      "Product 3:\n",
      "Name: None\n",
      "Price: None\n",
      "Image URL: https://images.bewakoof.com/t640/sage-green-casual-cotton-trouser-340543-1663661829-1.jpg\n",
      "Product 4:\n",
      "Name: None\n",
      "Price: None\n",
      "Image URL: https://images.bewakoof.com/t640/sage-green-cotton-jogger-pants-330852-1663661717-1.jpg\n",
      "Product 5:\n",
      "Name: None\n",
      "Price: None\n",
      "Image URL: https://images.bewakoof.com/t640/men-s-sky-blue-cotton-jogger-pants-330846-1664197182-1.jpg\n",
      "Product 6:\n",
      "Name: None\n",
      "Price: None\n",
      "Image URL: https://images.bewakoof.com/t640/desert-beige-casual-cotton-trouser-330853-1663661915-1.jpg\n",
      "Product 7:\n",
      "Name: None\n",
      "Price: None\n",
      "Image URL: https://images.bewakoof.com/t640/women-s-purple-fairytale-bunny-graphic-printed-oversized-t-shirt-519259-1694765992-1.jpg\n",
      "Product 8:\n",
      "Name: None\n",
      "Price: None\n",
      "Image URL: https://images.bewakoof.com/t640/women-s-black-the-astronaut-bts-typography-oversized-t-shirt-554008-1694761013-1.jpg\n",
      "Product 9:\n",
      "Name: None\n",
      "Price: None\n",
      "Image URL: https://images.bewakoof.com/t640/women-black-solid-oversize-t-shirt-580349-1684862246-1.jpg\n",
      "Product 10:\n",
      "Name: None\n",
      "Price: None\n",
      "Image URL: https://images.bewakoof.com/t640/men-s-navy-blue-gimme-a-break-graphic-printed-plus-size-t-shirt-605074-1694765201-1.jpg\n"
     ]
    }
   ],
   "source": [
    "for i, product in enumerate(products[:10], 1):\n",
    "    product_name = product.find(\"h3\", {\"class\":\"a-size-base-plus a-color-base a-text-normal\"})\n",
    "    price = product.find(\"span\", {\"class\":\"a-price-whole\"})\n",
    "    image_url = product.find(\"img\")[\"src\"]\n",
    "\n",
    "    print(f\"Product {i}:\")\n",
    "    print(f\"Name: {product_name}\")\n",
    "    print(f\"Price: {price}\")\n",
    "    print(f\"Image URL: {image_url}\")"
   ]
  },
  {
   "cell_type": "code",
   "execution_count": null,
   "id": "6acba696",
   "metadata": {},
   "outputs": [],
   "source": [
    "                    Thanks"
   ]
  }
 ],
 "metadata": {
  "kernelspec": {
   "display_name": "Python 3 (ipykernel)",
   "language": "python",
   "name": "python3"
  },
  "language_info": {
   "codemirror_mode": {
    "name": "ipython",
    "version": 3
   },
   "file_extension": ".py",
   "mimetype": "text/x-python",
   "name": "python",
   "nbconvert_exporter": "python",
   "pygments_lexer": "ipython3",
   "version": "3.11.4"
  }
 },
 "nbformat": 4,
 "nbformat_minor": 5
}
