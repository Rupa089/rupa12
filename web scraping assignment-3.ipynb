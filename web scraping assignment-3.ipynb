{
 "cells": [
  {
   "cell_type": "code",
   "execution_count": 31,
   "id": "7eb43536",
   "metadata": {},
   "outputs": [],
   "source": [
    "from bs4 import BeautifulSoup \n",
    "import requests\n",
    "import pandas as pd\n",
    "import csv"
   ]
  },
  {
   "cell_type": "code",
   "execution_count": 32,
   "id": "14aa2c0c",
   "metadata": {},
   "outputs": [],
   "source": [
    "#Q1-Please visit https://www.cnbc.com/world/?region=world and scrap-a) headings b) date c) News link\n",
    "#\n",
    "url =\" https://www.cnbc.com/world/?region=world and scrap-\""
   ]
  },
  {
   "cell_type": "code",
   "execution_count": 130,
   "id": "daca5330",
   "metadata": {},
   "outputs": [],
   "source": [
    "response = requests.get(cnn_url)\n",
    "cnbc_soup = BeautifulSoup(response.content,\"lxml\")"
   ]
  },
  {
   "cell_type": "code",
   "execution_count": 131,
   "id": "0ca407ac",
   "metadata": {},
   "outputs": [
    {
     "name": "stdout",
     "output_type": "stream",
     "text": [
      "<title itemprop=\"name\">International Business, World News &amp; Global Stock Market Analysis</title>\n"
     ]
    }
   ],
   "source": [
    "print(soup.title)"
   ]
  },
  {
   "cell_type": "code",
   "execution_count": 132,
   "id": "8e0dfe13",
   "metadata": {},
   "outputs": [],
   "source": [
    "news_cnbc = cnbc_soup.find_all(\"div\",class_ = \"news-info\")\n",
    "news_details = []"
   ]
  },
  {
   "cell_type": "code",
   "execution_count": 133,
   "id": "b7d1e3e2",
   "metadata": {},
   "outputs": [
    {
     "name": "stdout",
     "output_type": "stream",
     "text": [
      "Headings: \n",
      "time: \n",
      "link: \n"
     ]
    }
   ],
   "source": [
    "for link in cnbc_soup.find_all(\"div\", {\"class\": \"LatestNews-item\"}):\n",
    "    headings = cnbc_soup.find(\"div\",{\"class\":\"ArticleHeader-headline\"})\n",
    "    date = cnbc_soup.find(\"div\",{\"class\":\"ArticleHeader-time\"})\n",
    "    link = cnbc_soup.find(\"div\",{\"class\":\"LatestNews-item\"})\n",
    "    \n",
    "    news_cnbc.append([headings,date,link])\n",
    "    \n",
    "    news_df = pd.DataFrame(news_detail,columns['headings','date','link'])   \n",
    "print(\"Headings: \")\n",
    "print(\"time: \")\n",
    "print(\"link: \")"
   ]
  },
  {
   "cell_type": "code",
   "execution_count": 90,
   "id": "f4ace061",
   "metadata": {},
   "outputs": [],
   "source": [
    "#Q2-Please visit https://www.keaipublishing.com/en/journals/artificial-intelligence-in-agriculture/most-downloaded-articles/ and scrap-\n",
    "#a) Paper title b) date c) Author"
   ]
  },
  {
   "cell_type": "code",
   "execution_count": 113,
   "id": "ffcca384",
   "metadata": {},
   "outputs": [],
   "source": [
    "url ='https://www.keaipublishing.com/en/journals/artificial-intelligence-in-agriculture/most-downloaded-articles/ and scrap-'"
   ]
  },
  {
   "cell_type": "code",
   "execution_count": 125,
   "id": "469b9998",
   "metadata": {},
   "outputs": [],
   "source": [
    "response = requests.get(cnn_url)\n",
    "kei_soup = BeautifulSoup(response.content,\"lxml\")"
   ]
  },
  {
   "cell_type": "code",
   "execution_count": 126,
   "id": "1b84a58d",
   "metadata": {},
   "outputs": [],
   "source": [
    "articles_kei = kei_soup.find_all(\"div\",class_=\"article-info\")\n",
    "articles_details = []"
   ]
  },
  {
   "cell_type": "code",
   "execution_count": 142,
   "id": "6ff66092",
   "metadata": {},
   "outputs": [],
   "source": [
    "columns = ['title','date','author']"
   ]
  },
  {
   "cell_type": "code",
   "execution_count": 143,
   "id": "25f42874",
   "metadata": {},
   "outputs": [],
   "source": [
    "for link in kei_soup.find_all(\"div\", {\"class\": \"artilce_info\"}):\n",
    "    paper_title = kei_soup.find(\"div\",{\"class\":\"title-text\"})\n",
    "    date = kei_soup.find(\"div\",{\"class\":\"article-date\"})\n",
    "    author = kei_soup.find(\"div\",{\"class\":\"article-authors\"})\n",
    "    title = paper_title.text  \n",
    "    articles_kei.append([title,date,link])"
   ]
  },
  {
   "cell_type": "code",
   "execution_count": 145,
   "id": "bcf15cfc",
   "metadata": {},
   "outputs": [],
   "source": [
    "articles_df = pd.DataFrame(articles_details, columns=columns)"
   ]
  },
  {
   "cell_type": "code",
   "execution_count": 147,
   "id": "1e3aa96a",
   "metadata": {},
   "outputs": [
    {
     "name": "stdout",
     "output_type": "stream",
     "text": [
      "title: \n",
      "date: \n",
      "author: \n"
     ]
    }
   ],
   "source": [
    "print(\"title: \")\n",
    "print(\"date: \")\n",
    "print(\"author: \")"
   ]
  },
  {
   "cell_type": "code",
   "execution_count": null,
   "id": "74d531c0",
   "metadata": {},
   "outputs": [],
   "source": [
    "                                          Thanks"
   ]
  }
 ],
 "metadata": {
  "kernelspec": {
   "display_name": "Python 3 (ipykernel)",
   "language": "python",
   "name": "python3"
  },
  "language_info": {
   "codemirror_mode": {
    "name": "ipython",
    "version": 3
   },
   "file_extension": ".py",
   "mimetype": "text/x-python",
   "name": "python",
   "nbconvert_exporter": "python",
   "pygments_lexer": "ipython3",
   "version": "3.11.4"
  }
 },
 "nbformat": 4,
 "nbformat_minor": 5
}
